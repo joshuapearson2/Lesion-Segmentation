{
  "nbformat": 4,
  "nbformat_minor": 0,
  "metadata": {
    "colab": {
      "provenance": [],
      "authorship_tag": "ABX9TyOvlJvpo9jRkjszVYUlwli6",
      "include_colab_link": true
    },
    "kernelspec": {
      "name": "python3",
      "display_name": "Python 3"
    },
    "language_info": {
      "name": "python"
    }
  },
  "cells": [
    {
      "cell_type": "markdown",
      "metadata": {
        "id": "view-in-github",
        "colab_type": "text"
      },
      "source": [
        "<a href=\"https://colab.research.google.com/github/joshuapearson2/Lesion-Segmentation/blob/main/DeepMedic.ipynb\" target=\"_parent\"><img src=\"https://colab.research.google.com/assets/colab-badge.svg\" alt=\"Open In Colab\"/></a>"
      ]
    },
    {
      "cell_type": "markdown",
      "source": [
        "**DeepMedic**"
      ],
      "metadata": {
        "id": "lDmJobYVtVUv"
      }
    },
    {
      "cell_type": "code",
      "source": [
        "# Clone the DeepMedic software\n",
        "!git clone https://github.com/Kamnitsask/deepmedic/"
      ],
      "metadata": {
        "colab": {
          "base_uri": "https://localhost:8080/"
        },
        "id": "NPhb_pBetH46",
        "outputId": "1cb39046-dfbb-4a5f-8b05-8c161eb8283b"
      },
      "execution_count": 5,
      "outputs": [
        {
          "output_type": "stream",
          "name": "stdout",
          "text": [
            "Cloning into 'deepmedic'...\n",
            "remote: Enumerating objects: 5537, done.\u001b[K\n",
            "remote: Counting objects: 100% (111/111), done.\u001b[K\n",
            "remote: Compressing objects: 100% (62/62), done.\u001b[K\n",
            "remote: Total 5537 (delta 53), reused 99 (delta 48), pack-reused 5426\u001b[K\n",
            "Receiving objects: 100% (5537/5537), 49.20 MiB | 30.22 MiB/s, done.\n",
            "Resolving deltas: 100% (3911/3911), done.\n"
          ]
        }
      ]
    },
    {
      "cell_type": "code",
      "source": [
        "# Install TensorFlow\n",
        "import tensorflow as tf"
      ],
      "metadata": {
        "id": "jQzpIMF3zVyt"
      },
      "execution_count": 6,
      "outputs": []
    },
    {
      "cell_type": "code",
      "source": [
        "# Install DeepMedic and the rest of its dependencies\n",
        "! cd \n",
        "! pip install ."
      ],
      "metadata": {
        "colab": {
          "base_uri": "https://localhost:8080/"
        },
        "id": "3pfsImGGzYSO",
        "outputId": "c385919b-7f82-4384-b42b-568c562c8758"
      },
      "execution_count": 7,
      "outputs": [
        {
          "output_type": "stream",
          "name": "stdout",
          "text": [
            "/bin/bash: line 0: cd: DEEPMEDIC_ROOT_FOLDER: No such file or directory\n",
            "\u001b[31mERROR: Directory '.' is not installable. Neither 'setup.py' nor 'pyproject.toml' found.\u001b[0m\u001b[31m\n",
            "\u001b[0m"
          ]
        }
      ]
    }
  ]
}